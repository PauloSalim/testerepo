{
 "cells": [
  {
   "cell_type": "code",
   "execution_count": null,
   "id": "6c0aa6ab",
   "metadata": {},
   "outputs": [],
   "source": [
    "# Exercise 2: Create markdown cell with title of the notebook \n"
   ]
  },
  {
   "cell_type": "markdown",
   "id": "6d130996",
   "metadata": {},
   "source": [
    "#Data Science Tools and Ecosystem"
   ]
  },
  {
   "cell_type": "markdown",
   "id": "cf3303f3-f1ad-4532-85f2-adf94a9b8504",
   "metadata": {},
   "source": [
    "# In this notebook, Data Science Tools and Ecosystem are summarized."
   ]
  },
  {
   "cell_type": "code",
   "execution_count": null,
   "id": "7f40b191",
   "metadata": {},
   "outputs": [],
   "source": [
    "# Objectives:\n",
    "\n",
    "# List popular languages that Data Scientists use.\n",
    "# List commonly used libraries used by Data Scientists.\n",
    "# Comment on Data Science tools.\n",
    "\n"
   ]
  },
  {
   "cell_type": "code",
   "execution_count": null,
   "id": "c3f3165b",
   "metadata": {
    "tags": []
   },
   "outputs": [],
   "source": [
    "#Some of the popular languages that Data Scientists use are:\n",
    "\n",
    "#   Python.\n",
    "#   R.\n",
    "#   SQL."
   ]
  },
  {
   "cell_type": "code",
   "execution_count": null,
   "id": "885302ec",
   "metadata": {},
   "outputs": [],
   "source": [
    "# Some of the commonly used libraries used by Data Scientists include:\n",
    "\n",
    "#  1 TensorFlow.\n",
    "#  2 NumPy.\n",
    "#  3 SciPy"
   ]
  },
  {
   "cell_type": "code",
   "execution_count": null,
   "id": "af5960b0",
   "metadata": {},
   "outputs": [],
   "source": [
    "# three development environment open source tools used in data science.\n",
    "\n",
    "# SAS\n",
    "# _______________\n",
    "# Apache Spark\n",
    "# _______________\n",
    "# BigM\n"
   ]
  },
  {
   "cell_type": "code",
   "execution_count": 10,
   "id": "210875a5",
   "metadata": {},
   "outputs": [],
   "source": [
    "#Below are a few examples of evaluating arithmetic expressions in Python"
   ]
  },
  {
   "cell_type": "code",
   "execution_count": null,
   "id": "f189e017",
   "metadata": {},
   "outputs": [],
   "source": []
  },
  {
   "cell_type": "code",
   "execution_count": 15,
   "id": "2d38cd45",
   "metadata": {},
   "outputs": [
    {
     "name": "stdout",
     "output_type": "stream",
     "text": [
      "900\n"
     ]
    }
   ],
   "source": [
    " y = 20\n",
    " x = 10\n",
    " b = 30\n",
    "    \n",
    "z = (y + x)*b\n",
    "print (z)"
   ]
  },
  {
   "cell_type": "code",
   "execution_count": 3,
   "id": "ca646fbb",
   "metadata": {},
   "outputs": [
    {
     "name": "stdout",
     "output_type": "stream",
     "text": [
      "17\n",
      "This a simple arithmetic expression to mutiply then add integers\n"
     ]
    }
   ],
   "source": [
    "#The following code is an example of bracket evaluation followed by the addtiion operation with the expected result to be 17\n",
    "CODE = (3 * 4 ) + 5\n",
    "\n",
    "print(CODE)\n",
    "print (\"This a simple arithmetic expression to mutiply then add integers\")"
   ]
  },
  {
   "cell_type": "code",
   "execution_count": 5,
   "id": "b03ef321",
   "metadata": {},
   "outputs": [
    {
     "name": "stdout",
     "output_type": "stream",
     "text": [
      "3.3333333333333335\n",
      "This will convert 200 minutes to hours by diving by 60\n"
     ]
    }
   ],
   "source": [
    "#The following code will try to covernt minutes into hours using the formula 60 minutes = 1 hr Therefore, 200 by 60 = 3.33 hrs\n",
    "minutes = 200\n",
    "hours_in_minute = minutes / 60\n",
    "\n",
    "print(hours_in_minute)\n",
    "print ('This will convert 200 minutes to hours by diving by 60')"
   ]
  },
  {
   "cell_type": "markdown",
   "id": "23fcd38f",
   "metadata": {},
   "source": [
    "# Author\n",
    "# Paulo Henrique Adib Dantas Salim"
   ]
  }
 ],
 "metadata": {
  "kernelspec": {
   "display_name": "Python 3 (ipykernel)",
   "language": "python",
   "name": "python3"
  },
  "language_info": {
   "codemirror_mode": {
    "name": "ipython",
    "version": 3
   },
   "file_extension": ".py",
   "mimetype": "text/x-python",
   "name": "python",
   "nbconvert_exporter": "python",
   "pygments_lexer": "ipython3",
   "version": "3.9.13"
  }
 },
 "nbformat": 4,
 "nbformat_minor": 5
}
